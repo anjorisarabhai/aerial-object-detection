{
 "cells": [
  {
   "cell_type": "code",
   "execution_count": 26,
   "metadata": {
    "execution": {
     "iopub.execute_input": "2025-07-14T12:55:37.175561Z",
     "iopub.status.busy": "2025-07-14T12:55:37.174988Z",
     "iopub.status.idle": "2025-07-14T12:55:38.104924Z",
     "shell.execute_reply": "2025-07-14T12:55:38.104143Z",
     "shell.execute_reply.started": "2025-07-14T12:55:37.175539Z"
    },
    "trusted": true
   },
   "outputs": [
    {
     "name": "stdout",
     "output_type": "stream",
     "text": [
      "Class distribution:\n",
      "ship: 28068\n",
      "small-vehicle: 26126\n",
      "large-vehicle: 16969\n",
      "plane: 8055\n",
      "harbor: 5983\n",
      "storage-tank: 5029\n",
      "tennis-court: 2367\n",
      "bridge: 2047\n",
      "swimming-pool: 1736\n",
      "helicopter: 630\n",
      "basketball-court: 515\n",
      "baseball-diamond: 415\n",
      "roundabout: 399\n",
      "soccer-ball-field: 326\n",
      "ground-track-field: 325\n"
     ]
    }
   ],
   "source": [
    "from collections import Counter\n",
    "\n",
    "label_dir = '/kaggle/input/annotations/labelTxt'\n",
    "class_counts = Counter()\n",
    "\n",
    "for file in os.listdir(label_dir):\n",
    "    if not file.endswith('.txt'): continue\n",
    "    with open(os.path.join(label_dir, file), 'r') as f:\n",
    "        for line in f:\n",
    "            parts = line.strip().split()\n",
    "            if len(parts) >= 9:\n",
    "                cls = parts[8]\n",
    "                class_counts[cls] += 1\n",
    "\n",
    "# Print top classes\n",
    "print(\"Class distribution:\")\n",
    "for cls, count in class_counts.most_common():\n",
    "    print(f\"{cls}: {count}\")"
   ]
  },
  {
   "cell_type": "markdown",
   "metadata": {},
   "source": [
    "**PREPROCESSING**"
   ]
  },
  {
   "cell_type": "markdown",
   "metadata": {},
   "source": [
    "Minor fraction of images were grayscale; model frameworks like YOLOv8 auto-handle this during loading. Explicit conversion was skipped to optimize preprocessing time."
   ]
  },
  {
   "cell_type": "code",
   "execution_count": 38,
   "metadata": {
    "execution": {
     "iopub.execute_input": "2025-07-14T13:28:51.715795Z",
     "iopub.status.busy": "2025-07-14T13:28:51.715532Z",
     "iopub.status.idle": "2025-07-14T13:28:51.719463Z",
     "shell.execute_reply": "2025-07-14T13:28:51.718745Z",
     "shell.execute_reply.started": "2025-07-14T13:28:51.715776Z"
    },
    "trusted": true
   },
   "outputs": [],
   "source": [
    "# Paths\n",
    "image_dir = '/kaggle/input/dota-data/DOTA/train/images'\n",
    "label_dir = '/kaggle/working/yolo_labels'\n",
    "base_out_dir = '/kaggle/working/yolo_dataset'"
   ]
  },
  {
   "cell_type": "code",
   "execution_count": 39,
   "metadata": {
    "execution": {
     "iopub.execute_input": "2025-07-14T13:28:53.004645Z",
     "iopub.status.busy": "2025-07-14T13:28:53.004366Z",
     "iopub.status.idle": "2025-07-14T13:28:53.009374Z",
     "shell.execute_reply": "2025-07-14T13:28:53.008670Z",
     "shell.execute_reply.started": "2025-07-14T13:28:53.004624Z"
    },
    "trusted": true
   },
   "outputs": [],
   "source": [
    "# Create required directories\n",
    "for split in ['train', 'val']:\n",
    "    os.makedirs(os.path.join(base_out_dir, 'images', split), exist_ok=True)\n",
    "    os.makedirs(os.path.join(base_out_dir, 'labels', split), exist_ok=True)"
   ]
  },
  {
   "cell_type": "code",
   "execution_count": 40,
   "metadata": {
    "execution": {
     "iopub.execute_input": "2025-07-14T13:28:54.001495Z",
     "iopub.status.busy": "2025-07-14T13:28:54.001246Z",
     "iopub.status.idle": "2025-07-14T13:28:54.009192Z",
     "shell.execute_reply": "2025-07-14T13:28:54.008494Z",
     "shell.execute_reply.started": "2025-07-14T13:28:54.001478Z"
    },
    "trusted": true
   },
   "outputs": [
    {
     "name": "stdout",
     "output_type": "stream",
     "text": [
      "Total images found: 1411\n"
     ]
    }
   ],
   "source": [
    "# Get all image files\n",
    "all_images = sorted(glob(os.path.join(image_dir, '*.png')))\n",
    "print(f\"Total images found: {len(all_images)}\")"
   ]
  },
  {
   "cell_type": "code",
   "execution_count": 41,
   "metadata": {
    "execution": {
     "iopub.execute_input": "2025-07-14T13:28:54.832950Z",
     "iopub.status.busy": "2025-07-14T13:28:54.832702Z",
     "iopub.status.idle": "2025-07-14T13:28:54.837229Z",
     "shell.execute_reply": "2025-07-14T13:28:54.836612Z",
     "shell.execute_reply.started": "2025-07-14T13:28:54.832932Z"
    },
    "trusted": true
   },
   "outputs": [],
   "source": [
    "# Shuffle and split 80% train / 20% val\n",
    "random.seed(42)\n",
    "random.shuffle(all_images)\n",
    "split_idx = int(0.8 * len(all_images))\n",
    "train_images = all_images[:split_idx]\n",
    "val_images = all_images[split_idx:]"
   ]
  },
  {
   "cell_type": "code",
   "execution_count": 42,
   "metadata": {
    "execution": {
     "iopub.execute_input": "2025-07-14T13:29:00.458702Z",
     "iopub.status.busy": "2025-07-14T13:29:00.458445Z",
     "iopub.status.idle": "2025-07-14T13:29:00.463296Z",
     "shell.execute_reply": "2025-07-14T13:29:00.462543Z",
     "shell.execute_reply.started": "2025-07-14T13:29:00.458684Z"
    },
    "trusted": true
   },
   "outputs": [],
   "source": [
    "# Helper to copy files\n",
    "def copy_image_and_label(image_list, split):\n",
    "    for img_path in image_list:\n",
    "        fname = os.path.basename(img_path)\n",
    "        label_path = os.path.join(label_dir, fname.replace('.png', '.txt'))\n",
    "\n",
    "        # Copy image\n",
    "        shutil.copy(img_path, os.path.join(base_out_dir, 'images', split, fname))\n",
    "\n",
    "        # Copy label if it exists\n",
    "        if os.path.exists(label_path):\n",
    "            shutil.copy(label_path, os.path.join(base_out_dir, 'labels', split, fname.replace('.png', '.txt')))"
   ]
  },
  {
   "cell_type": "code",
   "execution_count": 43,
   "metadata": {
    "execution": {
     "iopub.execute_input": "2025-07-14T13:29:01.999570Z",
     "iopub.status.busy": "2025-07-14T13:29:01.999277Z",
     "iopub.status.idle": "2025-07-14T13:30:51.038955Z",
     "shell.execute_reply": "2025-07-14T13:30:51.038374Z",
     "shell.execute_reply.started": "2025-07-14T13:29:01.999551Z"
    },
    "trusted": true
   },
   "outputs": [],
   "source": [
    "# Copy to train and val\n",
    "copy_image_and_label(train_images, 'train')\n",
    "copy_image_and_label(val_images, 'val')"
   ]
  },
  {
   "cell_type": "code",
   "execution_count": 44,
   "metadata": {
    "execution": {
     "iopub.execute_input": "2025-07-14T13:30:51.040141Z",
     "iopub.status.busy": "2025-07-14T13:30:51.039941Z",
     "iopub.status.idle": "2025-07-14T13:30:51.044127Z",
     "shell.execute_reply": "2025-07-14T13:30:51.043398Z",
     "shell.execute_reply.started": "2025-07-14T13:30:51.040126Z"
    },
    "trusted": true
   },
   "outputs": [
    {
     "name": "stdout",
     "output_type": "stream",
     "text": [
      "Train images: 1128\n",
      "Val images: 283\n"
     ]
    }
   ],
   "source": [
    "# Summary\n",
    "print(f\"Train images: {len(train_images)}\")\n",
    "print(f\"Val images: {len(val_images)}\")"
   ]
  },
  {
   "cell_type": "code",
   "execution_count": null,
   "metadata": {
    "trusted": true
   },
   "outputs": [],
   "source": []
  }
 ],
 "metadata": {
  "kaggle": {
   "accelerator": "nvidiaTeslaT4",
   "dataSources": [
    {
     "datasetId": 1766298,
     "sourceId": 2883445,
     "sourceType": "datasetVersion"
    },
    {
     "datasetId": 7864779,
     "sourceId": 12466659,
     "sourceType": "datasetVersion"
    }
   ],
   "dockerImageVersionId": 31089,
   "isGpuEnabled": true,
   "isInternetEnabled": true,
   "language": "python",
   "sourceType": "notebook"
  },
  "kernelspec": {
   "display_name": "Python 3",
   "language": "python",
   "name": "python3"
  },
  "language_info": {
   "codemirror_mode": {
    "name": "ipython",
    "version": 3
   },
   "file_extension": ".py",
   "mimetype": "text/x-python",
   "name": "python",
   "nbconvert_exporter": "python",
   "pygments_lexer": "ipython3",
   "version": "3.11.13"
  }
 },
 "nbformat": 4,
 "nbformat_minor": 4
}
